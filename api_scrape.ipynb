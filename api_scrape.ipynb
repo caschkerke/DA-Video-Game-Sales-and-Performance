{
 "cells": [
  {
   "cell_type": "code",
   "execution_count": 14,
   "metadata": {},
   "outputs": [],
   "source": [
    "# Importing Dependencies\n",
    "import pandas as pd\n",
    "import requests"
   ]
  },
  {
   "cell_type": "code",
   "execution_count": 15,
   "metadata": {},
   "outputs": [],
   "source": [
    "# Defining variable for the APPID of the requested steam game. This variable is the backbone of the query as it defines which\n",
    "# game we want the current user count.\n",
    "appid = \"10\"\n",
    "\n",
    "# Defining api and query URLs\n",
    "url = \"https://api.steampowered.com/ISteamUserStats/GetNumberOfCurrentPlayers/v1\"\n",
    "query_url = f\"{url}?appid={appid}\""
   ]
  },
  {
   "cell_type": "code",
   "execution_count": 16,
   "metadata": {},
   "outputs": [],
   "source": [
    "# Defining URLs\n",
    "query = requests.get(query_url)\n",
    "response = query.json()\n",
    "\n",
    "# Flatenning the response to simplify the returns and to avoid redundant 'response['response']' requirement\n",
    "response_flat = response['response']"
   ]
  },
  {
   "cell_type": "code",
   "execution_count": 17,
   "metadata": {},
   "outputs": [],
   "source": [
    "# Creating empty list to store only player count from response\n",
    "player_count = []\n",
    "\n",
    "# Creating conditional statement to ensure only valid AppIDs are accepted, return print statement if ID is invalid\n",
    "if response_flat['result'] == 1:\n",
    "    player_count.append(response_flat['player_count'])\n",
    "    \n",
    "else:\n",
    "    print('Result not found, check AppID and query again.')"
   ]
  },
  {
   "cell_type": "code",
   "execution_count": 18,
   "metadata": {},
   "outputs": [],
   "source": [
    "# Creating dictionary of the now verified data\n",
    "data = {\"AppID\": appid, \"Current Players\": player_count}\n",
    "\n",
    "# Creating dataframe from data\n",
    "current_count_df = pd.DataFrame(data=data)"
   ]
  },
  {
   "cell_type": "code",
   "execution_count": 19,
   "metadata": {},
   "outputs": [],
   "source": [
    "current_count_df.to_csv('./Outputs/active_count.csv')"
   ]
  },
  {
   "cell_type": "code",
   "execution_count": null,
   "metadata": {},
   "outputs": [],
   "source": []
  }
 ],
 "metadata": {
  "kernelspec": {
   "display_name": "Python 3.7.6 64-bit ('Anaconda3': conda)",
   "language": "python",
   "name": "python37664bitanaconda3condad244e5650e754523b63e00c18ba58e90"
  },
  "language_info": {
   "codemirror_mode": {
    "name": "ipython",
    "version": 3
   },
   "file_extension": ".py",
   "mimetype": "text/x-python",
   "name": "python",
   "nbconvert_exporter": "python",
   "pygments_lexer": "ipython3",
   "version": "3.7.4"
  }
 },
 "nbformat": 4,
 "nbformat_minor": 2
}

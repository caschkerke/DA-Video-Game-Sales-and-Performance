{
 "cells": [
  {
   "cell_type": "code",
   "execution_count": 8,
   "metadata": {},
   "outputs": [],
   "source": [
    "# Importing Dependencies\n",
    "import pandas as pd\n",
    "from sqlalchemy import create_engine"
   ]
  },
  {
   "cell_type": "code",
   "execution_count": 9,
   "metadata": {},
   "outputs": [],
   "source": [
    "#Setting path to csv created from api call data\n",
    "api_data = \"./Outputs/active_count.csv\"\n",
    "vg_data = \"./Resources/vgsales_clean.csv\"\n",
    "\n",
    "# Converting csv to pandas dataframe and verifying data\n",
    "player_count_df = pd.read_csv(api_data)\n",
    "vg_data_df = pd.read_csv(vg_data)"
   ]
  },
  {
   "cell_type": "code",
   "execution_count": 10,
   "metadata": {},
   "outputs": [
    {
     "data": {
      "text/html": [
       "<div>\n",
       "<style scoped>\n",
       "    .dataframe tbody tr th:only-of-type {\n",
       "        vertical-align: middle;\n",
       "    }\n",
       "\n",
       "    .dataframe tbody tr th {\n",
       "        vertical-align: top;\n",
       "    }\n",
       "\n",
       "    .dataframe thead th {\n",
       "        text-align: right;\n",
       "    }\n",
       "</style>\n",
       "<table border=\"1\" class=\"dataframe\">\n",
       "  <thead>\n",
       "    <tr style=\"text-align: right;\">\n",
       "      <th></th>\n",
       "      <th>current_players</th>\n",
       "    </tr>\n",
       "    <tr>\n",
       "      <th>appid</th>\n",
       "      <th></th>\n",
       "    </tr>\n",
       "  </thead>\n",
       "  <tbody>\n",
       "    <tr>\n",
       "      <td>10</td>\n",
       "      <td>14349</td>\n",
       "    </tr>\n",
       "  </tbody>\n",
       "</table>\n",
       "</div>"
      ],
      "text/plain": [
       "       current_players\n",
       "appid                 \n",
       "10               14349"
      ]
     },
     "execution_count": 10,
     "metadata": {},
     "output_type": "execute_result"
    }
   ],
   "source": [
    "# Defining columns of interest from imported data\n",
    "count_cols = [\"AppID\", \"Current Players\"]\n",
    "\n",
    "# Dropping columns outside of defined count_cols\n",
    "count_transformed = player_count_df[count_cols].copy()\n",
    "count_transformed = count_transformed.rename(columns={\"AppID\": \"appid\",\n",
    "                                                      \"Current Players\": \"current_players\"})\n",
    "\n",
    "# Dropping any potential duplicates to maintain data integrity\n",
    "count_transformed.drop_duplicates(\"appid\", inplace=True)\n",
    "\n",
    "# Setting game AppID as index to simplify data location in case multiple get requests are performed and to simplify SQL import\n",
    "count_transformed.set_index(\"appid\", inplace=True)\n",
    "\n",
    "# Verifying dataframe columns were transformed correctly\n",
    "count_transformed.head()"
   ]
  },
  {
   "cell_type": "code",
   "execution_count": 11,
   "metadata": {},
   "outputs": [
    {
     "data": {
      "text/html": [
       "<div>\n",
       "<style scoped>\n",
       "    .dataframe tbody tr th:only-of-type {\n",
       "        vertical-align: middle;\n",
       "    }\n",
       "\n",
       "    .dataframe tbody tr th {\n",
       "        vertical-align: top;\n",
       "    }\n",
       "\n",
       "    .dataframe thead th {\n",
       "        text-align: right;\n",
       "    }\n",
       "</style>\n",
       "<table border=\"1\" class=\"dataframe\">\n",
       "  <thead>\n",
       "    <tr style=\"text-align: right;\">\n",
       "      <th></th>\n",
       "      <th>rank</th>\n",
       "      <th>name</th>\n",
       "      <th>platform</th>\n",
       "      <th>year</th>\n",
       "      <th>genre</th>\n",
       "      <th>publisher</th>\n",
       "      <th>global_sales</th>\n",
       "    </tr>\n",
       "  </thead>\n",
       "  <tbody>\n",
       "    <tr>\n",
       "      <td>0</td>\n",
       "      <td>1</td>\n",
       "      <td>Wii Sports</td>\n",
       "      <td>Wii</td>\n",
       "      <td>2006</td>\n",
       "      <td>Sports</td>\n",
       "      <td>Nintendo</td>\n",
       "      <td>82.74</td>\n",
       "    </tr>\n",
       "    <tr>\n",
       "      <td>1</td>\n",
       "      <td>2</td>\n",
       "      <td>Super Mario Bros.</td>\n",
       "      <td>NES</td>\n",
       "      <td>1985</td>\n",
       "      <td>Platform</td>\n",
       "      <td>Nintendo</td>\n",
       "      <td>40.24</td>\n",
       "    </tr>\n",
       "    <tr>\n",
       "      <td>2</td>\n",
       "      <td>3</td>\n",
       "      <td>Mario Kart Wii</td>\n",
       "      <td>Wii</td>\n",
       "      <td>2008</td>\n",
       "      <td>Racing</td>\n",
       "      <td>Nintendo</td>\n",
       "      <td>35.82</td>\n",
       "    </tr>\n",
       "    <tr>\n",
       "      <td>3</td>\n",
       "      <td>4</td>\n",
       "      <td>Wii Sports Resort</td>\n",
       "      <td>Wii</td>\n",
       "      <td>2009</td>\n",
       "      <td>Sports</td>\n",
       "      <td>Nintendo</td>\n",
       "      <td>33.00</td>\n",
       "    </tr>\n",
       "    <tr>\n",
       "      <td>4</td>\n",
       "      <td>5</td>\n",
       "      <td>Pokemon Red/Pokemon Blue</td>\n",
       "      <td>GB</td>\n",
       "      <td>1996</td>\n",
       "      <td>Role-Playing</td>\n",
       "      <td>Nintendo</td>\n",
       "      <td>31.37</td>\n",
       "    </tr>\n",
       "  </tbody>\n",
       "</table>\n",
       "</div>"
      ],
      "text/plain": [
       "   rank                      name platform  year         genre publisher  \\\n",
       "0     1                Wii Sports      Wii  2006        Sports  Nintendo   \n",
       "1     2         Super Mario Bros.      NES  1985      Platform  Nintendo   \n",
       "2     3            Mario Kart Wii      Wii  2008        Racing  Nintendo   \n",
       "3     4         Wii Sports Resort      Wii  2009        Sports  Nintendo   \n",
       "4     5  Pokemon Red/Pokemon Blue       GB  1996  Role-Playing  Nintendo   \n",
       "\n",
       "   global_sales  \n",
       "0         82.74  \n",
       "1         40.24  \n",
       "2         35.82  \n",
       "3         33.00  \n",
       "4         31.37  "
      ]
     },
     "execution_count": 11,
     "metadata": {},
     "output_type": "execute_result"
    }
   ],
   "source": [
    "# Filling any NA values to avoid pandas conflicts\n",
    "vg_data_df.fillna(0, inplace=True)\n",
    "\n",
    "# Setting \"Year\" column dtype to int instead of float\n",
    "vg_data_df = vg_data_df.astype({\"Year\": \"int64\"})\n",
    "\n",
    "# Defining columns of interest from imported data\n",
    "vg_cols = [\"Rank\", \"Name\", \"Platform\", \"Year\", \"Genre\", \"Publisher\", \"Global_Sales\"]\n",
    "\n",
    "# Dropping columns outside of defined count_cols\n",
    "vg_transformed = vg_data_df[vg_cols].copy()\n",
    "\n",
    "vg_rename = vg_transformed.rename(columns={\"Rank\": \"rank\",\n",
    "                                           \"Name\": \"name\",\n",
    "                                           \"Platform\": \"platform\",\n",
    "                                           \"Year\": \"year\",\n",
    "                                           \"Genre\": \"genre\",\n",
    "                                           \"Publisher\": \"publisher\",\n",
    "                                           \"Global_Sales\": \"global_sales\"})\n",
    "\n",
    "# Verifying dataframe columns were transformed correctly\n",
    "vg_rename.head()"
   ]
  },
  {
   "cell_type": "code",
   "execution_count": 12,
   "metadata": {},
   "outputs": [],
   "source": [
    "# Creating SQL engine\n",
    "connection_string = \"postgres:postgres@localhost:5432/playercount_db\"\n",
    "engine = create_engine(f'postgresql://{connection_string}')"
   ]
  },
  {
   "cell_type": "code",
   "execution_count": 6,
   "metadata": {},
   "outputs": [
    {
     "data": {
      "text/plain": [
       "['current_players', 'vg_data']"
      ]
     },
     "execution_count": 6,
     "metadata": {},
     "output_type": "execute_result"
    }
   ],
   "source": [
    "# Verifying tables in database\n",
    "engine.table_names()"
   ]
  },
  {
   "cell_type": "code",
   "execution_count": 7,
   "metadata": {},
   "outputs": [],
   "source": [
    "# Importing dataframe data into SQL database\n",
    "count_transformed.to_sql(name='current_players', con=engine, if_exists='append', index=True)\n",
    "vg_rename.to_sql(name='vg_data', con=engine, if_exists='append', index=False)"
   ]
  },
  {
   "cell_type": "code",
   "execution_count": null,
   "metadata": {},
   "outputs": [],
   "source": [
    "create_tables = open('SQL/schemas.sql')\n",
    "table_text = \"\"\n",
    "\n",
    "for text in create_tables:\n",
    "    qtable_text = table_text + text\n",
    "\n",
    "print(table_text)\n",
    "player_query_df = pd.read_sql_query(query_text, con=engine)\n",
    "\n",
    "player_query_df"
   ]
  },
  {
   "cell_type": "code",
   "execution_count": null,
   "metadata": {},
   "outputs": [],
   "source": [
    "query_str = open('SQL/player_query.sql')\n",
    "query_text = \"\"\n",
    "\n",
    "for text in query_str:\n",
    "    query_text = query_text + text\n",
    "\n",
    "print(query_text)\n",
    "player_query_df = pd.read_sql_query(query_text, con=engine)\n",
    "\n",
    "player_query_df"
   ]
  },
  {
   "cell_type": "code",
   "execution_count": null,
   "metadata": {},
   "outputs": [],
   "source": [
    "query_str = open('SQL/players_query.sql')\n",
    "query_text = \"\"\n",
    "\n",
    "for text in query_str:\n",
    "    query_text = query_text + text\n",
    "\n",
    "print(query_text)\n",
    "player_query_df = pd.read_sql_query(query_text, con=engine)\n",
    "\n",
    "player_query_df"
   ]
  }
 ],
 "metadata": {
  "kernelspec": {
   "display_name": "Python 3.7.6 64-bit ('Anaconda3': conda)",
   "language": "python",
   "name": "python37664bitanaconda3condad244e5650e754523b63e00c18ba58e90"
  },
  "language_info": {
   "codemirror_mode": {
    "name": "ipython",
    "version": 3
   },
   "file_extension": ".py",
   "mimetype": "text/x-python",
   "name": "python",
   "nbconvert_exporter": "python",
   "pygments_lexer": "ipython3",
   "version": "3.7.4"
  }
 },
 "nbformat": 4,
 "nbformat_minor": 2
}